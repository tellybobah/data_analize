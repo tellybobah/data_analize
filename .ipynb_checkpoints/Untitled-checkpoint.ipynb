{
 "cells": [
  {
   "cell_type": "code",
   "execution_count": null,
   "metadata": {},
   "outputs": [
    {
     "name": "stderr",
     "output_type": "stream",
     "text": [
      "Installing package into ‘/home/telly/R/x86_64-pc-linux-gnu-library/3.4’\n",
      "(as ‘lib’ is unspecified)\n"
     ]
    }
   ],
   "source": [
    "install.packages('xtable')\n",
    "data <- read.csv(\"1791077_1792552_1841782.csv\", header = TRUE);"
   ]
  },
  {
   "cell_type": "code",
   "execution_count": null,
   "metadata": {},
   "outputs": [],
   "source": [
    "#Stockages des valeurs dans les variables\n",
    "Age <- data$Age\n",
    "ATOI <- data$ATOI\n",
    "Salaire <- data$Salaire\n",
    "Poids <- data$Poids\n",
    "Taille <- data$Taille\n",
    "Pos <- data$Pos"
   ]
  },
  {
   "cell_type": "markdown",
   "metadata": {},
   "source": [
    "print(ATOI)"
   ]
  },
  {
   "cell_type": "code",
   "execution_count": null,
   "metadata": {},
   "outputs": [],
   "source": [
    "library(lubridate)\n",
    "times <- data$ATOI\n",
    "as.period(hms(times), unit = \"sec\")\n",
    "atoi_seconds <- as.numeric(as.period(hms(times), unit = \"sec\"))"
   ]
  },
  {
   "cell_type": "code",
   "execution_count": null,
   "metadata": {},
   "outputs": [],
   "source": [
    "#Conversion du temps en second pour garder la consistence des valeures\n",
    "for(i in 1:length(atoi_seconds)){\n",
    "    atoi_seconds[i] = atoi_seconds[i]/60\n",
    "}"
   ]
  },
  {
   "cell_type": "code",
   "execution_count": null,
   "metadata": {},
   "outputs": [],
   "source": [
    "print(atoi_seconds)"
   ]
  },
  {
   "cell_type": "code",
   "execution_count": null,
   "metadata": {},
   "outputs": [],
   "source": [
    "hist(atoi_seconds)"
   ]
  },
  {
   "cell_type": "code",
   "execution_count": null,
   "metadata": {},
   "outputs": [],
   "source": [
    "hist(Age)"
   ]
  },
  {
   "cell_type": "code",
   "execution_count": null,
   "metadata": {
    "scrolled": false
   },
   "outputs": [],
   "source": [
    "hist(Taille,freq = FALSE)\n",
    "lines(density(Taille), lwd=4) # densité ajustée, lwd donne épaisseur de ligne\n",
    "x = seq(0,18,length.out=500) # crée une séquence de 500 points entre 0 et 18\n",
    "\n",
    "# densité d'une loi normale\n",
    "lines(x, dnorm(x, mean(Taille), sd(Taille)), lwd=2, lty=3) \n",
    "# lty (line type) indique le type de ligne (pointillés, pleine...etc)"
   ]
  },
  {
   "cell_type": "markdown",
   "metadata": {},
   "source": [
    "# Est-ce que la position du joueur influence son salaire  ? \n",
    " faisons le modele de regression lineaire pour valider cette hipothese"
   ]
  },
  {
   "cell_type": "code",
   "execution_count": null,
   "metadata": {},
   "outputs": [],
   "source": []
  },
  {
   "cell_type": "markdown",
   "metadata": {},
   "source": []
  },
  {
   "cell_type": "code",
   "execution_count": null,
   "metadata": {},
   "outputs": [],
   "source": [
    "# creating the factor variable\n",
    "Pos.f <- factor(Pos)\n",
    "is.factor(Pos.f)\n",
    "print(Pos.f)"
   ]
  },
  {
   "cell_type": "code",
   "execution_count": null,
   "metadata": {},
   "outputs": [],
   "source": [
    "reg <-lm(Salaire ~ Pos.f, data = data)\n",
    "summary(reg)"
   ]
  },
  {
   "cell_type": "code",
   "execution_count": null,
   "metadata": {},
   "outputs": [],
   "source": [
    "VARIABLE=c(\"\",gsub(\"[-^0-9]\", \"\", names(unlist(reg$xlevels))))\n",
    "MODALITY=c(\"\",as.character(unlist(reg$xlevels)))\n",
    "names=data.frame(VARIABLE,MODALITY,NOMVAR=c( \"(Intercept)\",paste(VARIABLE,MODALITY,sep=\"\")[-1]))\n",
    "regression=data.frame(NOMVAR=names(coefficients(reg)),\n",
    "COEF=as.numeric(coefficients(reg)))\n",
    "merge(names,regression,all.x=TRUE)"
   ]
  },
  {
   "cell_type": "code",
   "execution_count": null,
   "metadata": {},
   "outputs": [],
   "source": [
    "print(Salaire)\n",
    "merge(names,regression)"
   ]
  },
  {
   "cell_type": "markdown",
   "metadata": {},
   "source": [
    "Nous allons donc expliquer comment nous avons reussi a faire une regression lineaire avec une variable qui n'est pas numerique. La technique est bien simple il suffit de separer les differents poste en classe ainsi avec factor, nous allons assigner pour chaque poste une valeur numerique. Nous allons donc avoir \n",
    "C =1\n",
    "D =2\n",
    "G =3\n",
    "LW =4\n",
    "RW =5\n",
    "\n",
    "On peut voir le modele de regression grace au tableu ci dessous on peut donc en deduire que : \n",
    "\n",
    "\n",
    "\\begin{equation*}\n",
    "Salaire   \\approx 24.27 + Pos * Coef\n",
    "\\end{equation*}"
   ]
  },
  {
   "cell_type": "code",
   "execution_count": null,
   "metadata": {
    "scrolled": false
   },
   "outputs": [],
   "source": [
    "plot(reg)"
   ]
  },
  {
   "cell_type": "markdown",
   "metadata": {},
   "source": [
    "À la lumière des résultats précédents, on peut déterminer que la relation linéaire n’est pas\n",
    "significative.Nous ne pouvons pas determiner une corealatio entre le salaire et la position du joueur. Cela peut \n",
    "pricipalement etre du au peu de valeur que nous avons dans le cadre du projet. Pour une soixantaine de valeur,\n",
    "il est tres difficile d'estimer un modele de regression. De plus, on constate aussi que nous certains poste ne sont present que 3 a quatre fois. Il  y'a alors des classes absente et cela fausse notre resultat"
   ]
  },
  {
   "cell_type": "code",
   "execution_count": null,
   "metadata": {},
   "outputs": [],
   "source": []
  },
  {
   "cell_type": "markdown",
   "metadata": {},
   "source": [
    "# Est-ce que les joueurs avec le plus de temps sur la glace sont mieux rémunérés ?"
   ]
  },
  {
   "cell_type": "markdown",
   "metadata": {},
   "source": [
    "Pour repondre a cette question , nous allons essayer d'effectuer un modele de regression lineaire entre ces deux\n",
    "variable aleatoires."
   ]
  },
  {
   "cell_type": "code",
   "execution_count": null,
   "metadata": {},
   "outputs": [],
   "source": [
    "regression_2 <- lm(atoi_seconds ~ Salaire)\n",
    "summary(regression_2)"
   ]
  },
  {
   "cell_type": "code",
   "execution_count": null,
   "metadata": {
    "scrolled": false
   },
   "outputs": [],
   "source": [
    "plot(regression_2)"
   ]
  },
  {
   "cell_type": "code",
   "execution_count": null,
   "metadata": {},
   "outputs": [],
   "source": []
  },
  {
   "cell_type": "markdown",
   "metadata": {},
   "source": [
    "# Est-ce qu’un joueur plus jeune gagne moins d’argent annuellement qu’un joueur plus vieux ? Pour determiner cela nous allons effectuer une regression linéaire pour essayer de determiner"
   ]
  },
  {
   "cell_type": "code",
   "execution_count": null,
   "metadata": {},
   "outputs": [],
   "source": []
  },
  {
   "cell_type": "markdown",
   "metadata": {},
   "source": [
    "# Est-ce que les joueurs avec le même poste sont enclins à avoir les mêmes caractéristiques (poids et tailles) ?\n"
   ]
  },
  {
   "cell_type": "code",
   "execution_count": null,
   "metadata": {},
   "outputs": [],
   "source": []
  },
  {
   "cell_type": "code",
   "execution_count": null,
   "metadata": {},
   "outputs": [],
   "source": []
  },
  {
   "cell_type": "markdown",
   "metadata": {},
   "source": [
    "# ESTIMATIONS DES PARAMETRES"
   ]
  },
  {
   "cell_type": "code",
   "execution_count": null,
   "metadata": {},
   "outputs": [],
   "source": [
    "shapiro.test(Salaire)"
   ]
  },
  {
   "cell_type": "code",
   "execution_count": null,
   "metadata": {},
   "outputs": [],
   "source": []
  }
 ],
 "metadata": {
  "celltoolbar": "Raw Cell Format",
  "kernelspec": {
   "display_name": "R",
   "language": "R",
   "name": "ir"
  },
  "language_info": {
   "codemirror_mode": "r",
   "file_extension": ".r",
   "mimetype": "text/x-r-source",
   "name": "R",
   "pygments_lexer": "r",
   "version": "3.4.2"
  }
 },
 "nbformat": 4,
 "nbformat_minor": 2
}
